{
 "cells": [
  {
   "cell_type": "markdown",
   "metadata": {
    "colab_type": "text",
    "id": "9AQmffVsO2Sn"
   },
   "source": [
    "# Data Augmentation - MNIST Dataset\n",
    "\n",
    "Every time we train a classification model the amount of data we have is limited (even if that number reaches millions of instances). This supposes a problem, because the amount of data and its nature might not be enough to properly generalize the features of the classes to learn. Minor changes might lead the model to fail.\n",
    "\n",
    "To prove that this is a real effect, a model will be trained and the accuracy tested, and then we will perform *data augmentation* on the test set. This technique is based on adding noise and/or arbitrary translations/rotations to the original dataset. If our assumption is true, the trained model should give lower accuracies, proving the importance of data augmentation during training.\n",
    "\n",
    "### Table of Contents\n",
    "- 0. Loading the Dataset\n",
    "- 1. Training a Simple Model\n",
    "- 2. Data Augmentation\n",
    "- 3. Visualization of Data Augmentation\n",
    "- 4. Testing the New Accuracies"
   ]
  },
  {
   "cell_type": "markdown",
   "metadata": {},
   "source": [
    "## 0. Loading the Dataset"
   ]
  },
  {
   "cell_type": "code",
   "execution_count": 1,
   "metadata": {
    "colab": {},
    "colab_type": "code",
    "id": "YaAJNYbLPLRU"
   },
   "outputs": [],
   "source": [
    "import numpy as np\n",
    "import scipy as sc\n",
    "import sklearn as sk\n",
    "import pandas  as pd\n",
    "import seaborn as sb\n",
    "import matplotlib.pyplot as plt\n",
    "import numpy.random\n",
    "\n",
    "from scipy.ndimage import shift\n",
    "from scipy.ndimage import rotate\n",
    "\n",
    "import tensorflow as tf\n",
    "from tensorflow.keras.layers     import Dense\n",
    "from tensorflow.keras.utils      import to_categorical\n",
    "from tensorflow.keras.optimizers import SGD\n",
    "\n",
    "from sklearn.model_selection import train_test_split"
   ]
  },
  {
   "cell_type": "code",
   "execution_count": 12,
   "metadata": {
    "colab": {
     "base_uri": "https://localhost:8080/",
     "height": 72
    },
    "colab_type": "code",
    "id": "VyvqSqKFcomZ",
    "outputId": "7dca49ca-4fa6-48ac-c136-55b0ceb904a9"
   },
   "outputs": [],
   "source": [
    "mnist = pd.read_csv(\"Datasets/MNIST.csv\", header=None)\n",
    "mnist = np.array(mnist)\n",
    "\n",
    "X = mnist[:,1:] / 255   # Normalizing our data\n",
    "Y = mnist[:,0]          \n",
    "oneY = to_categorical(Y)\n",
    "\n",
    "#Generate train/test\n",
    "X_train, X_test, Y_train, Y_test = train_test_split(X, oneY, train_size=0.7, test_size=0.3)"
   ]
  },
  {
   "cell_type": "markdown",
   "metadata": {},
   "source": [
    "## 1. Training a Simple Model\n",
    "\n",
    "We train a simple MLP with SGD optimizer. We get an accuracy of 95%. Until now, nothing new or surprising."
   ]
  },
  {
   "cell_type": "code",
   "execution_count": 3,
   "metadata": {
    "colab": {
     "base_uri": "https://localhost:8080/",
     "height": 3554
    },
    "colab_type": "code",
    "id": "nyLr8wAGRvq0",
    "outputId": "8003ca4d-464a-4385-95ff-4b34fe0a6617"
   },
   "outputs": [
    {
     "name": "stdout",
     "output_type": "stream",
     "text": [
      "Test loss: 0.14375718696415424\n",
      "Test accuracy: 0.954 \n",
      "\n"
     ]
    }
   ],
   "source": [
    "model = tf.keras.Sequential()\n",
    "\n",
    "# Adds a densely-connected layer with 64 units to the model:\n",
    "model.add(Dense(128, activation='relu'))\n",
    "# Add another:\n",
    "model.add(Dense(64,  activation='relu'))\n",
    "# Add another:\n",
    "model.add(Dense(32,  activation='relu'))\n",
    "# Add a softmax layer with 10 output units:\n",
    "model.add(Dense(10, activation='softmax'))\n",
    "\n",
    "# Configure a model for mean-squared error regression.\n",
    "model.compile(optimizer=SGD(lr=0.05),\n",
    "              loss='categorical_crossentropy',   # mean squared error\n",
    "              metrics=['acc'])                   # mean absolute error\n",
    "\n",
    "\n",
    "arr = model.fit(X_train, Y_train, verbose=0, epochs=10)\n",
    "score = model.evaluate(X_test, Y_test, verbose=0)\n",
    "\n",
    "print('Test loss:', score[0])\n",
    "print('Test accuracy:', score[1],'\\n')"
   ]
  },
  {
   "cell_type": "markdown",
   "metadata": {},
   "source": [
    "## 2. Data Augmentation\n",
    "\n",
    "Now the data augmentation is performed. Three different changes will be implemented:\n",
    "- Translation\n",
    "- Rotation\n",
    "- Noise\n"
   ]
  },
  {
   "cell_type": "code",
   "execution_count": 4,
   "metadata": {
    "colab": {},
    "colab_type": "code",
    "id": "tiEwAKIIYwBz"
   },
   "outputs": [],
   "source": [
    "# Translation\n",
    "def traslate_imgs(X):\n",
    "  # Final matrix\n",
    "  trasl_X = np.zeros(X.shape)\n",
    "  for ix, x in enumerate(X):\n",
    "    # Vector of pixels to Matrix\n",
    "    rx = x.reshape(28, 28)\n",
    "    # How much shift in x and y?\n",
    "    shift_x = np.random.randint(14) - 7\n",
    "    shift_y = np.random.randint(14) - 7\n",
    "    # Translate\n",
    "    trasl_X[ix] = shift(x.reshape(28, 28), (shift_x, shift_y)).flatten()\n",
    "  return trasl_X\n",
    "\n",
    "# Rotation\n",
    "def rotate_imgs(X):\n",
    "  # Final matrix\n",
    "  rot_X = np.zeros(X.shape)  \n",
    "  for ix, x in enumerate(X):\n",
    "    # Vector of pixels to Matrix\n",
    "    rx = x.reshape(28, 28)\n",
    "    # Choose random angle\n",
    "    angle = np.random.randint(180) - 90\n",
    "    # Rotate\n",
    "    rot_X[ix] = rotate(x.reshape(28, 28), angle, reshape=False).flatten()\n",
    "  return rot_X\n",
    "\n",
    "# Noise\n",
    "def noise_imgs(X, noise_level=0.5):\n",
    "  # Final matrix\n",
    "  nois_X = np.zeros(X.shape)\n",
    "  for ix, x in enumerate(X):\n",
    "    # Vector of pixels to Matrix\n",
    "    rx = x.reshape(28, 28)\n",
    "    # Noise level\n",
    "    noise = (np.random.random(X[ix].shape) * 2 - 1) * noise_level\n",
    "    # Add Noise\n",
    "    nois_X[ix] = np.clip(x + noise, 0.0, 1.0).flatten()\n",
    "  return nois_X"
   ]
  },
  {
   "cell_type": "markdown",
   "metadata": {},
   "source": [
    "## 3. Visualization of the Data Augmentation"
   ]
  },
  {
   "cell_type": "code",
   "execution_count": 13,
   "metadata": {},
   "outputs": [],
   "source": [
    "# Generamos validación trasladada.\n",
    "trasX_test = traslate_imgs(X_test)\n",
    "# Generamos validación rotada.\n",
    "rotaX_test = rotate_imgs(X_test)\n",
    "# Generamos validación con ruido 50%.\n",
    "no50X_test = noise_imgs(X_test, 0.5)\n",
    "# Generamos validación con ruido 25%.\n",
    "no25X_test = noise_imgs(X_test, 0.25)"
   ]
  },
  {
   "cell_type": "code",
   "execution_count": 14,
   "metadata": {
    "colab": {
     "base_uri": "https://localhost:8080/",
     "height": 210
    },
    "colab_type": "code",
    "id": "umRaXIlvPfF5",
    "outputId": "a35ef0ac-b1e6-4549-f368-c8ede1186f88"
   },
   "outputs": [
    {
     "data": {
      "image/png": "[encoded data removed]",
      "text/plain": [
       "<Figure size 864x864 with 5 Axes>"
      ]
     },
     "metadata": {
      "needs_background": "light"
     },
     "output_type": "display_data"
    }
   ],
   "source": [
    "idx = 0\n",
    "\n",
    "fig, axs = plt.subplots(1,5,figsize=(12,12))\n",
    "axs[0].matshow(X_test[idx,:].reshape(28, 28))\n",
    "axs[1].matshow(trasX_test[idx,:].reshape(28, 28))\n",
    "axs[2].matshow(rotaX_test[idx,:].reshape(28, 28))\n",
    "axs[3].matshow(no50X_test[idx,:].reshape(28, 28))\n",
    "axs[4].matshow(no25X_test[idx,:].reshape(28, 28))\n",
    "plt.show()"
   ]
  },
  {
   "cell_type": "markdown",
   "metadata": {},
   "source": [
    "## 4. Testing the New Accuracies"
   ]
  },
  {
   "cell_type": "code",
   "execution_count": null,
   "metadata": {},
   "outputs": [],
   "source": [
    "# Generamos validación trasladada.\n",
    "trasX_test = traslate_imgs(X_test)\n",
    "# Generamos validación rotada.\n",
    "rotaX_test = rotate_imgs(X_test)\n",
    "# Generamos validación con ruido 50%.\n",
    "no50X_test = noise_imgs(X_test, 0.5)\n",
    "# Generamos validación con ruido 25%.\n",
    "no25X_test = noise_imgs(X_test, 0.25)"
   ]
  },
  {
   "cell_type": "code",
   "execution_count": null,
   "metadata": {
    "colab": {
     "base_uri": "https://localhost:8080/",
     "height": 105
    },
    "colab_type": "code",
    "id": "EjFPKZTGDP2a",
    "outputId": "91296fcf-ee34-4657-bf97-fd4d688e3607"
   },
   "outputs": [],
   "source": [
    "print(\"Accuracy datos normales:\", model.evaluate(X_test,     Y_test, verbose=0)[1] * 100,\"%\")\n",
    "print(\"Accuracy datos traslad.:\", model.evaluate(trasX_test, Y_test, verbose=0)[1] * 100,\"%\")\n",
    "print(\"Accuracy datos rotation:\", model.evaluate(rotaX_test, Y_test, verbose=0)[1] * 100,\"%\")\n",
    "print(\"Accuracy datos noise50%:\", model.evaluate(no50X_test, Y_test, verbose=0)[1] * 100,\"%\")\n",
    "print(\"Accuracy datos noise25%:\", model.evaluate(no25X_test, Y_test, verbose=0)[1] * 100,\"%\")"
   ]
  }
 ],
 "metadata": {
  "colab": {
   "collapsed_sections": [],
   "name": "Copia de (Solución) Exerc.10 - Data Augmentation",
   "provenance": [],
   "version": "0.3.2"
  },
  "kernelspec": {
   "display_name": "Python 3",
   "language": "python",
   "name": "python3"
  },
  "language_info": {
   "codemirror_mode": {
    "name": "ipython",
    "version": 3
   },
   "file_extension": ".py",
   "mimetype": "text/x-python",
   "name": "python",
   "nbconvert_exporter": "python",
   "pygments_lexer": "ipython3",
   "version": "3.6.7"
  }
 },
 "nbformat": 4,
 "nbformat_minor": 1
}
