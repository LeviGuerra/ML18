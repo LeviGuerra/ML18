{
 "cells": [
  {
   "cell_type": "markdown",
   "metadata": {
    "colab_type": "text",
    "id": "n9Zxk9HC7EMh"
   },
   "source": [
    "# Logistic Classification - Wisconsin Breast Cancer Dataset"
   ]
  },
  {
   "cell_type": "markdown",
   "metadata": {
    "colab_type": "text",
    "id": "CT43qY2e7U6N"
   },
   "source": [
    "## 1. Data Analysis\n",
    "\n",
    "We are going to analyze the Wisconsin Breast Cancer dataset. It relates many different cellular characteristics to the diagnosis of a patient. The diagnosis comes as 'M' and 'B', for malignant and benign types of cancer. We will convert this to numerical values (1 and 0).\n",
    "\n",
    "To get some preliminary information about our data, we represent the correlation matrix."
   ]
  },
  {
   "cell_type": "code",
   "execution_count": 1,
   "metadata": {
    "colab": {
     "base_uri": "https://localhost:8080/",
     "height": 1149
    },
    "colab_type": "code",
    "executionInfo": {
     "elapsed": 3092,
     "status": "ok",
     "timestamp": 1542744096090,
     "user": {
      "displayName": "Levi G.",
      "photoUrl": "https://lh5.googleusercontent.com/-_NHL2bHBihk/AAAAAAAAAAI/AAAAAAAAEzI/n3w_rLqy_N8/s64/photo.jpg",
      "userId": "03272700046030449042"
     },
     "user_tz": 0
    },
    "id": "HknlSffM8Zhs",
    "outputId": "5eef9ae9-f245-4709-a4eb-3f65a7df49d3",
    "scrolled": true
   },
   "outputs": [
    {
     "name": "stdout",
     "output_type": "stream",
     "text": [
      "Index(['id', 'diagnosis', 'radius_mean', 'texture_mean', 'perimeter_mean',\n",
      "       'area_mean', 'smoothness_mean', 'compactness_mean', 'concavity_mean',\n",
      "       'concave points_mean', 'symmetry_mean', 'fractal_dimension_mean',\n",
      "       'radius_se', 'texture_se', 'perimeter_se', 'area_se', 'smoothness_se',\n",
      "       'compactness_se', 'concavity_se', 'concave points_se', 'symmetry_se',\n",
      "       'fractal_dimension_se', 'radius_worst', 'texture_worst',\n",
      "       'perimeter_worst', 'area_worst', 'smoothness_worst',\n",
      "       'compactness_worst', 'concavity_worst', 'concave points_worst',\n",
      "       'symmetry_worst', 'fractal_dimension_worst'],\n",
      "      dtype='object')\n",
      "32\n"
     ]
    },
    {
     "data": {
      "text/plain": [
       "<Figure size 1500x1500 with 2 Axes>"
      ]
     },
     "metadata": {},
     "output_type": "display_data"
    }
   ],
   "source": [
    "import numpy   as np\n",
    "import scipy   as sc\n",
    "import pandas  as pd\n",
    "import seaborn as sb\n",
    "import matplotlib.pyplot as plt\n",
    "\n",
    "df=pd.read_csv('3. Wisconsin_Breast_Cancer_Dataset.csv',)\n",
    "columns=df.columns\n",
    "print(columns)\n",
    "print(len(columns))\n",
    "\n",
    "Y=df['diagnosis']\n",
    "X=df.drop(['diagnosis','id'], axis=1)\n",
    "\n",
    "dict={'M':1, 'B':0}\n",
    "y=Y.map(dict)\n",
    "\n",
    "# Correlation Matrix plot - Since it is symmetric, only triangular\n",
    "fig=plt.figure(figsize=(15,15))\n",
    "CX=X.corr()\n",
    "mask = np.zeros_like(CX, dtype=np.bool)\n",
    "mask[np.triu_indices_from(mask)] = True\n",
    "heat=sb.heatmap(CX,mask=mask,annot=True, fmt='.1f',cmap='coolwarm')\n",
    "fig.add_subplot(heat)\n",
    "plt.show()"
   ]
  },
  {
   "cell_type": "markdown",
   "metadata": {
    "colab_type": "text",
    "id": "yrLyUMrU82Wl"
   },
   "source": [
    "## 2. Logistic Regression - sklearn\n",
    "\n",
    "### Simple Logistic Regression"
   ]
  },
  {
   "cell_type": "code",
   "execution_count": 2,
   "metadata": {
    "colab": {
     "base_uri": "https://localhost:8080/",
     "height": 68
    },
    "colab_type": "code",
    "executionInfo": {
     "elapsed": 613,
     "status": "ok",
     "timestamp": 1542744623338,
     "user": {
      "displayName": "Levi G.",
      "photoUrl": "https://lh5.googleusercontent.com/-_NHL2bHBihk/AAAAAAAAAAI/AAAAAAAAEzI/n3w_rLqy_N8/s64/photo.jpg",
      "userId": "03272700046030449042"
     },
     "user_tz": 0
    },
    "id": "C-mNH-LN83Ow",
    "outputId": "cfde72d9-3d53-468f-860d-04ee6cf7b805"
   },
   "outputs": [
    {
     "name": "stdout",
     "output_type": "stream",
     "text": [
      "random_state=0\n",
      "Test score: 0.9590643274853801\n"
     ]
    }
   ],
   "source": [
    "from sklearn.datasets        import load_iris\n",
    "from sklearn.linear_model    import LogisticRegression\n",
    "from sklearn.model_selection import train_test_split\n",
    "\n",
    "print('random_state=0')\n",
    "X_train, X_test, Y_train, Y_test = train_test_split(X,Y,train_size=0.7,test_size=0.3)\n",
    "xyfit = LogisticRegression().fit(X_train,Y_train)\n",
    "TestValue=xyfit.score(X_test,Y_test)\n",
    "print('Test score:',TestValue)"
   ]
  },
  {
   "cell_type": "markdown",
   "metadata": {},
   "source": [
    "### Simple Logistic Regression - Average over 200 train-test\n",
    "More realistic value, since we evaluate for different partitions of train-test."
   ]
  },
  {
   "cell_type": "code",
   "execution_count": 3,
   "metadata": {
    "colab": {
     "base_uri": "https://localhost:8080/",
     "height": 68
    },
    "colab_type": "code",
    "executionInfo": {
     "elapsed": 31597,
     "status": "ok",
     "timestamp": 1542745699625,
     "user": {
      "displayName": "Levi G.",
      "photoUrl": "https://lh5.googleusercontent.com/-_NHL2bHBihk/AAAAAAAAAAI/AAAAAAAAEzI/n3w_rLqy_N8/s64/photo.jpg",
      "userId": "03272700046030449042"
     },
     "user_tz": 0
    },
    "id": "qrtziVA3uGWT",
    "outputId": "79a25c36-cf9f-4ef0-f9ea-fe3f2566825f"
   },
   "outputs": [
    {
     "name": "stdout",
     "output_type": "stream",
     "text": [
      "Average of Test Score: 0.9507602339181287\n"
     ]
    }
   ],
   "source": [
    "TrainValueVect=[]\n",
    "TestValueVect=[]\n",
    "\n",
    "for j in range(0,200):\n",
    "  X_train, X_test, Y_train, Y_test = train_test_split(X,Y,train_size=0.7,test_size=0.3)\n",
    "  xyfit = LogisticRegression().fit(X_train,Y_train)\n",
    "  TestValueVect.append(xyfit.score(X_test,Y_test))\n",
    "  \n",
    "MeanTest=np.mean(TestValueVect)\n",
    "print('Average of Test Score:',MeanTest)"
   ]
  },
  {
   "cell_type": "markdown",
   "metadata": {},
   "source": [
    "### Adding Polynomial Terms\n",
    "We include polynomial variables with interactions to our previous logistic regression model. The precision increases slightly."
   ]
  },
  {
   "cell_type": "code",
   "execution_count": 4,
   "metadata": {
    "colab": {
     "base_uri": "https://localhost:8080/",
     "height": 51
    },
    "colab_type": "code",
    "executionInfo": {
     "elapsed": 38433,
     "status": "ok",
     "timestamp": 1542745697467,
     "user": {
      "displayName": "Levi G.",
      "photoUrl": "https://lh5.googleusercontent.com/-_NHL2bHBihk/AAAAAAAAAAI/AAAAAAAAEzI/n3w_rLqy_N8/s64/photo.jpg",
      "userId": "03272700046030449042"
     },
     "user_tz": 0
    },
    "id": "VgwCQ7wWuQuy",
    "outputId": "9906767f-ebfc-4f63-cbbf-c09177822371"
   },
   "outputs": [
    {
     "name": "stdout",
     "output_type": "stream",
     "text": [
      "Test Score: 0.9562865497076024\n"
     ]
    }
   ],
   "source": [
    "l2 = []\n",
    "\n",
    "for i in range(200):\n",
    "  \n",
    "  from sklearn.preprocessing import PolynomialFeatures\n",
    "  from sklearn.preprocessing import scale\n",
    "\n",
    "  X_train, X_test, Y_train, Y_test = train_test_split(PolynomialFeatures(2).fit_transform(X), Y, test_size=0.3)\n",
    "  clf  = LogisticRegression().fit(X_train, Y_train)\n",
    "\n",
    "  l2.append(clf.score(X_test, Y_test))\n",
    "  \n",
    "MeanTest=np.mean(l2)\n",
    "print('Test Score:', MeanTest)"
   ]
  },
  {
   "cell_type": "markdown",
   "metadata": {},
   "source": [
    "### Scaling of the Variables (without polynomial)\n",
    "Scaling of our variables to [-1,1]."
   ]
  },
  {
   "cell_type": "code",
   "execution_count": 5,
   "metadata": {
    "colab": {
     "base_uri": "https://localhost:8080/",
     "height": 51
    },
    "colab_type": "code",
    "executionInfo": {
     "elapsed": 1765,
     "status": "ok",
     "timestamp": 1542745878697,
     "user": {
      "displayName": "Levi G.",
      "photoUrl": "https://lh5.googleusercontent.com/-_NHL2bHBihk/AAAAAAAAAAI/AAAAAAAAEzI/n3w_rLqy_N8/s64/photo.jpg",
      "userId": "03272700046030449042"
     },
     "user_tz": 0
    },
    "id": "bEj88j8XvS08",
    "outputId": "c67ca170-cd8e-4925-e4c7-a5956d734cd3"
   },
   "outputs": [
    {
     "name": "stdout",
     "output_type": "stream",
     "text": [
      "Test Score: 0.9712865497076024\n"
     ]
    }
   ],
   "source": [
    "l3 = []\n",
    "\n",
    "for i in range(200):\n",
    "  \n",
    "  from sklearn.preprocessing import PolynomialFeatures\n",
    "  from sklearn.preprocessing import scale\n",
    "\n",
    "  X_train, X_test, Y_train, Y_test = train_test_split(scale(X, with_mean=False), Y, test_size=0.3)\n",
    "  clf  = LogisticRegression().fit(X_train, Y_train)\n",
    "\n",
    "  l3.append(clf.score(X_test, Y_test))\n",
    "  \n",
    "MeanTest=np.mean(l3)\n",
    "print('Test Score:', MeanTest)"
   ]
  },
  {
   "cell_type": "markdown",
   "metadata": {},
   "source": [
    "### Scaling of the Variables (including polynomial)\n",
    "Scaling of our variables to [-1,1] including previous polynomial term."
   ]
  },
  {
   "cell_type": "code",
   "execution_count": 6,
   "metadata": {
    "colab": {
     "base_uri": "https://localhost:8080/",
     "height": 51
    },
    "colab_type": "code",
    "executionInfo": {
     "elapsed": 36410,
     "status": "ok",
     "timestamp": 1542745866074,
     "user": {
      "displayName": "Levi G.",
      "photoUrl": "https://lh5.googleusercontent.com/-_NHL2bHBihk/AAAAAAAAAAI/AAAAAAAAEzI/n3w_rLqy_N8/s64/photo.jpg",
      "userId": "03272700046030449042"
     },
     "user_tz": 0
    },
    "id": "9X9SSFmAyKEO",
    "outputId": "f727b03d-7976-4e75-fb11-1b4a0f254dc2"
   },
   "outputs": [
    {
     "name": "stdout",
     "output_type": "stream",
     "text": [
      "Test Score: 0.9630409356725147\n"
     ]
    }
   ],
   "source": [
    "l4 = []\n",
    "\n",
    "for i in range(200):\n",
    "  \n",
    "  from sklearn.preprocessing import PolynomialFeatures\n",
    "  from sklearn.preprocessing import scale\n",
    "\n",
    "  X_train, X_test, Y_train, Y_test = train_test_split(PolynomialFeatures(2).fit_transform(scale(X, with_mean=False)), Y, test_size=0.3)\n",
    "  clf  = LogisticRegression().fit(X_train, Y_train)\n",
    "\n",
    "  l4.append(clf.score(X_test, Y_test))\n",
    "  \n",
    "MeanTest=np.mean(l4)\n",
    "print('Test Score:', MeanTest)"
   ]
  },
  {
   "cell_type": "markdown",
   "metadata": {},
   "source": [
    "### Mean-Free Scaling of the Variables (without polynomial)\n",
    "Scaling of our variables to [-1,1] with mean=0."
   ]
  },
  {
   "cell_type": "code",
   "execution_count": 7,
   "metadata": {
    "colab": {
     "base_uri": "https://localhost:8080/",
     "height": 51
    },
    "colab_type": "code",
    "executionInfo": {
     "elapsed": 1744,
     "status": "ok",
     "timestamp": 1542745892234,
     "user": {
      "displayName": "Levi G.",
      "photoUrl": "https://lh5.googleusercontent.com/-_NHL2bHBihk/AAAAAAAAAAI/AAAAAAAAEzI/n3w_rLqy_N8/s64/photo.jpg",
      "userId": "03272700046030449042"
     },
     "user_tz": 0
    },
    "id": "m7szzWuQwIp-",
    "outputId": "31c9665a-36eb-4331-c060-09e35a8dade4"
   },
   "outputs": [
    {
     "data": {
      "text/plain": [
       "0.9771052631578945"
      ]
     },
     "execution_count": 7,
     "metadata": {},
     "output_type": "execute_result"
    }
   ],
   "source": [
    "l5 = []\n",
    "\n",
    "for i in range(200):\n",
    "  \n",
    "  from sklearn.preprocessing import scale\n",
    "\n",
    "  X_train, X_test, Y_train, Y_test = train_test_split(scale(X, with_mean=True), Y, test_size=0.3)\n",
    "  clf  = LogisticRegression().fit(X_train, Y_train)\n",
    "\n",
    "  l5.append(clf.score(X_test, Y_test))\n",
    "  \n",
    "np.mean(l5)"
   ]
  },
  {
   "cell_type": "markdown",
   "metadata": {},
   "source": [
    "### Mean-Free Scaling of the Variables (with polynomial)\n",
    "Scaling of our variables to [-1,1] with mean=0 including previous polynomial term."
   ]
  },
  {
   "cell_type": "code",
   "execution_count": 9,
   "metadata": {
    "colab": {
     "base_uri": "https://localhost:8080/",
     "height": 51
    },
    "colab_type": "code",
    "executionInfo": {
     "elapsed": 31369,
     "status": "ok",
     "timestamp": 1542745930721,
     "user": {
      "displayName": "Levi G.",
      "photoUrl": "https://lh5.googleusercontent.com/-_NHL2bHBihk/AAAAAAAAAAI/AAAAAAAAEzI/n3w_rLqy_N8/s64/photo.jpg",
      "userId": "03272700046030449042"
     },
     "user_tz": 0
    },
    "id": "snT2aTnixJk9",
    "outputId": "7a81da8c-d23e-4fb1-b095-0ab86890a570"
   },
   "outputs": [
    {
     "data": {
      "text/plain": [
       "0.9619298245614035"
      ]
     },
     "execution_count": 9,
     "metadata": {},
     "output_type": "execute_result"
    }
   ],
   "source": [
    "l6 = []\n",
    "\n",
    "for i in range(200):\n",
    "  \n",
    "  from sklearn.preprocessing import PolynomialFeatures\n",
    "  from sklearn.preprocessing import scale\n",
    "\n",
    "  X_train, X_test, Y_train, Y_test = train_test_split(PolynomialFeatures(2).fit_transform(scale(X, with_mean=True)), Y, test_size=0.3)\n",
    "  clf  = LogisticRegression().fit(X_train, Y_train)\n",
    "\n",
    "  l6.append(clf.score(X_test, Y_test))\n",
    "  \n",
    "np.mean(l6)"
   ]
  }
 ],
 "metadata": {
  "colab": {
   "collapsed_sections": [],
   "name": "Exec 4.ipynb",
   "provenance": [
    {
     "file_id": "1k6XqFjh46RQTJHFLR8z2QQ9jPeHNHm2T",
     "timestamp": 1542655103144
    },
    {
     "file_id": "13Yfc6KpQnjW2JN5h4XGvxQJ2Zjxyr73v",
     "timestamp": 1542653121518
    }
   ],
   "toc_visible": true,
   "version": "0.3.2"
  },
  "kernelspec": {
   "display_name": "Python 3",
   "language": "python",
   "name": "python3"
  },
  "language_info": {
   "codemirror_mode": {
    "name": "ipython",
    "version": 3
   },
   "file_extension": ".py",
   "mimetype": "text/x-python",
   "name": "python",
   "nbconvert_exporter": "python",
   "pygments_lexer": "ipython3",
   "version": "3.7.0"
  }
 },
 "nbformat": 4,
 "nbformat_minor": 1
}
